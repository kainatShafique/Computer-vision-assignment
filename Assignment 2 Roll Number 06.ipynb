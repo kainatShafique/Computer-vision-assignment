{
 "cells": [
  {
   "cell_type": "code",
   "execution_count": null,
   "id": "d74502a9",
   "metadata": {},
   "outputs": [],
   "source": [
    "import numpy as np\n",
    "import matplotlib.pyplot as plt\n",
    "from PIL import Image\n",
    "\n",
    "# Load the background and foreground images\n",
    "background_path = input(\"Enter the file path of the background image (e.g., 'background.jpg'): \")\n",
    "foreground_path = input(\"Enter the file path of the foreground image (e.g., 'foreground.png'): \")\n",
    "\n",
    "# Open images using PIL\n",
    "background = Image.open(background_path).convert(\"RGBA\")  # Convert to RGBA\n",
    "foreground = Image.open(foreground_path).convert(\"RGBA\")  # Convert to RGBA\n",
    "\n",
    "# Ensure the foreground image matches the background size\n",
    "foreground = foreground.resize(background.size)\n",
    "\n",
    "# Convert images to numpy arrays\n",
    "background_np = np.array(background)[:, :, :3]  # Keep RGB, discard alpha\n",
    "foreground_np = np.array(foreground)[:, :, :3]  # Keep RGB, discard alpha\n",
    "\n",
    "# Define the alpha (transparency level) for blending\n",
    "alpha = 0.5  # 0 = fully transparent; 1 = fully opaque\n",
    "\n",
    "# Perform alpha blending manually\n",
    "blended_np = (alpha * foreground_np + (1 - alpha) * background_np).astype(np.uint8)\n",
    "\n",
    "# Convert the blended result back to an image\n",
    "blended_image = Image.fromarray(blended_np)\n",
    "\n",
    "# Display the images\n",
    "plt.figure(figsize=(15, 5))\n",
    "\n",
    "# Show the background image\n",
    "plt.subplot(1, 3, 1)\n",
    "plt.imshow(background)\n",
    "plt.title(\"Background Image\")\n",
    "plt.axis(\"off\")\n",
    "\n",
    "# Show the foreground image\n",
    "plt.subplot(1, 3, 2)\n",
    "plt.imshow(foreground)\n",
    "plt.title(\"Foreground Image\")\n",
    "plt.axis(\"off\")\n",
    "\n",
    "# Show the blended image\n",
    "plt.subplot(1, 3, 3)\n",
    "plt.imshow(blended_image)\n",
    "plt.title(\"Blended Image (Overlay)\")\n",
    "plt.axis(\"off\")\n",
    "\n",
    "plt.tight_layout()\n",
    "plt.show()\n"
   ]
  }
 ],
 "metadata": {
  "kernelspec": {
   "display_name": "Python 3 (ipykernel)",
   "language": "python",
   "name": "python3"
  },
  "language_info": {
   "codemirror_mode": {
    "name": "ipython",
    "version": 3
   },
   "file_extension": ".py",
   "mimetype": "text/x-python",
   "name": "python",
   "nbconvert_exporter": "python",
   "pygments_lexer": "ipython3",
   "version": "3.9.7"
  }
 },
 "nbformat": 4,
 "nbformat_minor": 5
}
